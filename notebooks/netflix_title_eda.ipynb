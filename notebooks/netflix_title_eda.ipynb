{
 "cells": [
  {
   "cell_type": "markdown",
   "metadata": {},
   "source": [
    "## Netfelx Titles (Movie and TV Show) Dataset"
   ]
  },
  {
   "cell_type": "code",
   "execution_count": null,
   "metadata": {},
   "outputs": [],
   "source": [
    "# necessary imports\n",
    "import git\n",
    "import matplotlib.pyplot as plt\n",
    "import numpy as npj\n",
    "import pandas as pd\n",
    "import plotly.express as px\n",
    "import plotly.graph_objects as go\n",
    "import seaborn as sns"
   ]
  },
  {
   "cell_type": "code",
   "execution_count": null,
   "metadata": {},
   "outputs": [],
   "source": [
    "# load the data\n",
    "repo_path = git.Repo(\".\", search_parent_directories=True).working_tree_dir\n",
    "data_path = repo_path + \"/Data/processed/netflix.csv\"\n",
    "\n",
    "df = pd.read_csv(data_path)\n",
    "df.head()"
   ]
  },
  {
   "cell_type": "code",
   "execution_count": null,
   "metadata": {},
   "outputs": [],
   "source": [
    "# !pip install nbformat"
   ]
  },
  {
   "cell_type": "code",
   "execution_count": null,
   "metadata": {},
   "outputs": [],
   "source": [
    "# df.nunique()\n",
    "df.isna().sum()"
   ]
  },
  {
   "cell_type": "markdown",
   "metadata": {},
   "source": [
    "### How does the number of titles change over the years?"
   ]
  },
  {
   "cell_type": "code",
   "execution_count": null,
   "metadata": {},
   "outputs": [],
   "source": [
    "# plot with plotly\n",
    "fig = px.histogram(df, x=\"release_year\", color=\"type\", barmode=\"group\")\n",
    "# Reverse the x-axis direction\n",
    "min_value = 1990\n",
    "max_value = 2022\n",
    "fig.update_xaxes(range=[min_value, max_value])\n",
    "# fig.update_xaxes(autorange=\"reversed\")\n",
    "\n",
    "fig.show()"
   ]
  },
  {
   "cell_type": "markdown",
   "metadata": {},
   "source": [
    "### Busiest release months?"
   ]
  },
  {
   "cell_type": "code",
   "execution_count": null,
   "metadata": {},
   "outputs": [],
   "source": [
    "# find the busiest release months\n",
    "df[\"date_added\"] = pd.to_datetime(df[\"date_added\"], format=\"mixed\", errors=\"coerce\")\n",
    "df[\"month_name_added\"] = df[\"date_added\"].dt.month_name()\n",
    "\n",
    "# plot with plotly\n",
    "fig = px.histogram(df, x=\"month_name_added\", color=\"type\", barmode=\"group\")\n",
    "fig.show()"
   ]
  },
  {
   "cell_type": "markdown",
   "metadata": {},
   "source": [
    "### Genres with the most titles?"
   ]
  },
  {
   "cell_type": "code",
   "execution_count": null,
   "metadata": {},
   "outputs": [],
   "source": [
    "df_genres = df[\"listed_in\"].str.split(\", \", expand=True).stack().value_counts()\n",
    "df_genres = pd.DataFrame(df_genres)\n",
    "df_genres.reset_index(inplace=True)\n",
    "df_genres.columns = [\"genre\", \"count\"]\n",
    "\n",
    "# plot with plotly\n",
    "fig = px.bar(df_genres, x=\"genre\", y=\"count\")\n",
    "fig.show()"
   ]
  },
  {
   "cell_type": "markdown",
   "metadata": {},
   "source": [
    "### Rating Analysis"
   ]
  },
  {
   "cell_type": "code",
   "execution_count": null,
   "metadata": {},
   "outputs": [],
   "source": [
    "ratings_ages = {\n",
    "    \"TV-PG\": \"Older Kids\",\n",
    "    \"TV-MA\": \"Adults\",\n",
    "    \"TV-Y7-FV\": \"Older Kids\",\n",
    "    \"TV-Y7\": \"Older Kids\",\n",
    "    \"TV-14\": \"Teens\",\n",
    "    \"R\": \"Adults\",\n",
    "    \"TV-Y\": \"Kids\",\n",
    "    \"NR\": \"Adults\",\n",
    "    \"PG-13\": \"Teens\",\n",
    "    \"TV-G\": \"Kids\",\n",
    "    \"PG\": \"Older Kids\",\n",
    "    \"G\": \"Kids\",\n",
    "    \"UR\": \"Adults\",\n",
    "    \"NC-17\": \"Adults\",\n",
    "    \"ALL_AGES\": \"Kids\",\n",
    "}\n",
    "\n",
    "df[\"target_ages\"] = df[\"rating\"].replace(ratings_ages)\n",
    "df[\"target_ages\"].unique()\n",
    "\n",
    "# Replace categories not present in ratings_ages with 'unknown'\n",
    "unknown_categories = set(df[\"rating\"].unique()) - set(ratings_ages.keys())\n",
    "df[\"target_ages\"] = df[\"target_ages\"].replace(unknown_categories, \"unknown\")\n",
    "# plot with plotly\n",
    "fig = px.histogram(df, x=\"target_ages\", barmode=\"group\")\n",
    "fig.show()"
   ]
  },
  {
   "cell_type": "code",
   "execution_count": null,
   "metadata": {},
   "outputs": [],
   "source": [
    "# Lets retrieve just the first country\n",
    "df[\"principal_country\"] = df[\"country\"].apply(lambda x: x.split(\",\")[0])\n",
    "df.dtypes"
   ]
  },
  {
   "cell_type": "markdown",
   "metadata": {},
   "source": [
    "\n",
    "\n",
    "## EDA chart to be analysed\n",
    "\n",
    "- TV shows vs Movie release over the years\n",
    "- Pie chart for Rating distribution using adult, tennage and kids catagories.\n",
    "- Generes distribution\n",
    "- Top 20 producing countries\n"
   ]
  }
 ],
 "metadata": {
  "kernelspec": {
   "display_name": "se_venv",
   "language": "python",
   "name": "python3"
  },
  "language_info": {
   "codemirror_mode": {
    "name": "ipython",
    "version": 3
   },
   "file_extension": ".py",
   "mimetype": "text/x-python",
   "name": "python",
   "nbconvert_exporter": "python",
   "pygments_lexer": "ipython3",
   "version": "3.12.3"
  }
 },
 "nbformat": 4,
 "nbformat_minor": 2
}

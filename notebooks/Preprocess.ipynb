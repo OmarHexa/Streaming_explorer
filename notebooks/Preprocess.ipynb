{
 "cells": [
  {
   "cell_type": "markdown",
   "metadata": {},
   "source": [
    "First we import all the neccsery module."
   ]
  },
  {
   "cell_type": "code",
   "execution_count": 5,
   "metadata": {},
   "outputs": [],
   "source": [
    "import os\n",
    "\n",
    "import pandas as pd"
   ]
  },
  {
   "cell_type": "markdown",
   "metadata": {},
   "source": [
    "We load all the raw data files in memory for data cleaning\n",
    "### Data cleaning and transformation\n",
    "- Convert Date Time format\n",
    "- clean Nan Value\n",
    "- Add Principal country instead of country"
   ]
  },
  {
   "cell_type": "code",
   "execution_count": 6,
   "metadata": {},
   "outputs": [
    {
     "name": "stdout",
     "output_type": "stream",
     "text": [
      "All the available datasets: %s ['processed', 'disney_plus_titles.csv', 'netflix_titles.csv', 'amazon_prime_titles.csv']\n",
      "Columns in disney Data: \n",
      " Index(['show_id', 'type', 'title', 'director', 'cast', 'country', 'date_added',\n",
      "       'release_year', 'rating', 'duration', 'listed_in', 'description',\n",
      "       'channel_streaming'],\n",
      "      dtype='object')\n",
      "Columns in netflix Data: \n",
      " Index(['show_id', 'type', 'title', 'director', 'cast', 'country', 'date_added',\n",
      "       'release_year', 'rating', 'duration', 'listed_in', 'description',\n",
      "       'channel_streaming'],\n",
      "      dtype='object')\n",
      "Columns in amazon Data: \n",
      " Index(['show_id', 'type', 'title', 'director', 'cast', 'country', 'date_added',\n",
      "       'release_year', 'rating', 'duration', 'listed_in', 'description',\n",
      "       'channel_streaming'],\n",
      "      dtype='object')\n"
     ]
    }
   ],
   "source": [
    "PATH_RAW = \"../Data\"\n",
    "# Log all available datasets\n",
    "print(\"All the available datasets: %s\", os.listdir(PATH_RAW))\n",
    "\n",
    "datasets_names = [\n",
    "    filename\n",
    "    for filename in os.listdir(PATH_RAW)\n",
    "    if filename.endswith(\".csv\") and not filename.startswith(\"IMDb\")\n",
    "]\n",
    "all_data = []\n",
    "for file_name in datasets_names:\n",
    "    read_pd = pd.read_csv(os.path.join(PATH_RAW, file_name))\n",
    "    read_pd[\"channel_streaming\"] = file_name.split(\"_\")[0]\n",
    "    all_data.append(read_pd)\n",
    "# Log all column names for each dataset\n",
    "for data in all_data:\n",
    "    print(f\"Columns in {data[\"channel_streaming\"].iloc[0]} Data: \\n {data.columns}\")"
   ]
  },
  {
   "cell_type": "code",
   "execution_count": 3,
   "metadata": {},
   "outputs": [
    {
     "name": "stdout",
     "output_type": "stream",
     "text": [
      "NaN Columns and Percentages in disney Data:\n",
      "\t director, 32.62068965517241\n",
      "\t cast, 13.10344827586207\n",
      "\t country, 15.10344827586207\n",
      "\t date_added, 0.20689655172413793\n",
      "\t rating, 0.20689655172413793\n",
      "\n",
      "\n",
      "NaN Columns and Percentages in netflix Data:\n",
      "\t director, 29.908027705234474\n",
      "\t cast, 9.367548540933349\n",
      "\t country, 9.435676166685592\n",
      "\t date_added, 0.11354604292040424\n",
      "\t rating, 0.04541841716816169\n",
      "\t duration, 0.034063812876121265\n",
      "\n",
      "\n",
      "NaN Columns and Percentages in amazon Data:\n",
      "\t director, 21.54530409598676\n",
      "\t cast, 12.753413322300371\n",
      "\t country, 93.04923458833264\n",
      "\t date_added, 98.39677285891601\n",
      "\t rating, 3.485726106743897\n",
      "\n",
      "\n",
      "Common NaN Columns Across All Data:{'duration', 'director', 'date_added', 'cast', 'rating', 'country'}\n"
     ]
    }
   ],
   "source": [
    "common_nan_columns = set()\n",
    "for data in all_data:\n",
    "    # Get columns that have at least one NaN value\n",
    "    nan_columns = data.columns[data.isnull().any(axis=0)]\n",
    "    common_nan_columns.update(nan_columns)\n",
    "    nan_columns_with_percentage = {\n",
    "        column: data[column].isnull().mean() * 100 for column in nan_columns\n",
    "    }  # Dict comprehension\n",
    "\n",
    "    print(f\"NaN Columns and Percentages in {data[\"channel_streaming\"].iloc[0]} Data:\")\n",
    "    for column, percentage in nan_columns_with_percentage.items():\n",
    "        print(f\"\\t {column}, {percentage}\")\n",
    "    print(\"\\n\")\n",
    "print(f\"Common NaN Columns Across All Data:{common_nan_columns}\")"
   ]
  },
  {
   "cell_type": "markdown",
   "metadata": {},
   "source": [
    "It is evident that only director, cast, country, date_added, rating and duration has NaN values inside each dataset. Let's fill all the NaN values with \"N/A\" into the field."
   ]
  },
  {
   "cell_type": "code",
   "execution_count": 4,
   "metadata": {},
   "outputs": [],
   "source": [
    "# Fill NaN values in each dataset\n",
    "for data in all_data:\n",
    "    for column in common_nan_columns:\n",
    "        data[column].fillna(\"UNKNOWN\", inplace=True)"
   ]
  },
  {
   "cell_type": "markdown",
   "metadata": {},
   "source": [
    "Print all the unique ratings."
   ]
  },
  {
   "cell_type": "code",
   "execution_count": 5,
   "metadata": {},
   "outputs": [
    {
     "name": "stdout",
     "output_type": "stream",
     "text": [
      "TV-NR\n",
      "66 min\n",
      "TV-PG\n",
      "UR\n",
      "PG-13\n",
      "UNRATED\n",
      "ALL\n",
      "TV-Y7-FV\n",
      "16\n",
      "TV-Y\n",
      "TV-14\n",
      "84 min\n",
      "TV-MA\n",
      "13+\n",
      "AGES_16_\n",
      "PG\n",
      "74 min\n",
      "R\n",
      "ALL_AGES\n",
      "16+\n",
      "UNKNOWN\n",
      "18+\n",
      "G\n",
      "NOT_RATE\n",
      "TV-Y7\n",
      "NC-17\n",
      "TV-G\n",
      "7+\n",
      "NR\n",
      "AGES_18_\n"
     ]
    }
   ],
   "source": [
    "unique_ratings = set()\n",
    "for data in all_data:\n",
    "    ratings = data[\"rating\"].unique()\n",
    "    unique_ratings.update(ratings)\n",
    "\n",
    "for ratings in unique_ratings:\n",
    "    print(ratings)"
   ]
  },
  {
   "cell_type": "code",
   "execution_count": null,
   "metadata": {},
   "outputs": [
    {
     "data": {
      "application/vnd.plotly.v1+json": {
       "config": {
        "plotlyServerURL": "https://plot.ly"
       },
       "data": [
        {
         "branchvalues": "total",
         "domain": {
          "x": [
           0,
           1
          ],
          "y": [
           0,
           1
          ]
         },
         "hovertemplate": "labels=%{label}<br>Production Size=%{value}<br>parent=%{parent}<br>id=%{id}<extra></extra>",
         "ids": [
          "Argentina",
          "Australia",
          "Canada",
          "China",
          "Denmark",
          "France",
          "Germany",
          "Hong Kong",
          "Hungary",
          "India",
          "Ireland",
          "Japan",
          "Mexico",
          "New Zealand",
          "South Africa",
          "South Korea",
          "Spain",
          "Taiwan",
          "United Kingdom",
          "United States"
         ],
         "labels": [
          "Argentina",
          "Australia",
          "Canada",
          "China",
          "Denmark",
          "France",
          "Germany",
          "Hong Kong",
          "Hungary",
          "India",
          "Ireland",
          "Japan",
          "Mexico",
          "New Zealand",
          "South Africa",
          "South Korea",
          "Spain",
          "Taiwan",
          "United Kingdom",
          "United States"
         ],
         "name": "",
         "parents": [
          "",
          "",
          "",
          "",
          "",
          "",
          "",
          "",
          "",
          "",
          "",
          "",
          "",
          "",
          "",
          "",
          "",
          "",
          "",
          ""
         ],
         "type": "treemap",
         "values": [
          3,
          23,
          77,
          10,
          3,
          22,
          9,
          4,
          3,
          5,
          8,
          10,
          4,
          3,
          3,
          13,
          4,
          6,
          101,
          1184
         ]
        }
       ],
       "layout": {
        "legend": {
         "tracegroupgap": 0
        },
        "template": {
         "data": {
          "bar": [
           {
            "error_x": {
             "color": "#f2f5fa"
            },
            "error_y": {
             "color": "#f2f5fa"
            },
            "marker": {
             "line": {
              "color": "rgb(17,17,17)",
              "width": 0.5
             },
             "pattern": {
              "fillmode": "overlay",
              "size": 10,
              "solidity": 0.2
             }
            },
            "type": "bar"
           }
          ],
          "barpolar": [
           {
            "marker": {
             "line": {
              "color": "rgb(17,17,17)",
              "width": 0.5
             },
             "pattern": {
              "fillmode": "overlay",
              "size": 10,
              "solidity": 0.2
             }
            },
            "type": "barpolar"
           }
          ],
          "carpet": [
           {
            "aaxis": {
             "endlinecolor": "#A2B1C6",
             "gridcolor": "#506784",
             "linecolor": "#506784",
             "minorgridcolor": "#506784",
             "startlinecolor": "#A2B1C6"
            },
            "baxis": {
             "endlinecolor": "#A2B1C6",
             "gridcolor": "#506784",
             "linecolor": "#506784",
             "minorgridcolor": "#506784",
             "startlinecolor": "#A2B1C6"
            },
            "type": "carpet"
           }
          ],
          "choropleth": [
           {
            "colorbar": {
             "outlinewidth": 0,
             "ticks": ""
            },
            "type": "choropleth"
           }
          ],
          "contour": [
           {
            "colorbar": {
             "outlinewidth": 0,
             "ticks": ""
            },
            "colorscale": [
             [
              0,
              "#0d0887"
             ],
             [
              0.1111111111111111,
              "#46039f"
             ],
             [
              0.2222222222222222,
              "#7201a8"
             ],
             [
              0.3333333333333333,
              "#9c179e"
             ],
             [
              0.4444444444444444,
              "#bd3786"
             ],
             [
              0.5555555555555556,
              "#d8576b"
             ],
             [
              0.6666666666666666,
              "#ed7953"
             ],
             [
              0.7777777777777778,
              "#fb9f3a"
             ],
             [
              0.8888888888888888,
              "#fdca26"
             ],
             [
              1,
              "#f0f921"
             ]
            ],
            "type": "contour"
           }
          ],
          "contourcarpet": [
           {
            "colorbar": {
             "outlinewidth": 0,
             "ticks": ""
            },
            "type": "contourcarpet"
           }
          ],
          "heatmap": [
           {
            "colorbar": {
             "outlinewidth": 0,
             "ticks": ""
            },
            "colorscale": [
             [
              0,
              "#0d0887"
             ],
             [
              0.1111111111111111,
              "#46039f"
             ],
             [
              0.2222222222222222,
              "#7201a8"
             ],
             [
              0.3333333333333333,
              "#9c179e"
             ],
             [
              0.4444444444444444,
              "#bd3786"
             ],
             [
              0.5555555555555556,
              "#d8576b"
             ],
             [
              0.6666666666666666,
              "#ed7953"
             ],
             [
              0.7777777777777778,
              "#fb9f3a"
             ],
             [
              0.8888888888888888,
              "#fdca26"
             ],
             [
              1,
              "#f0f921"
             ]
            ],
            "type": "heatmap"
           }
          ],
          "heatmapgl": [
           {
            "colorbar": {
             "outlinewidth": 0,
             "ticks": ""
            },
            "colorscale": [
             [
              0,
              "#0d0887"
             ],
             [
              0.1111111111111111,
              "#46039f"
             ],
             [
              0.2222222222222222,
              "#7201a8"
             ],
             [
              0.3333333333333333,
              "#9c179e"
             ],
             [
              0.4444444444444444,
              "#bd3786"
             ],
             [
              0.5555555555555556,
              "#d8576b"
             ],
             [
              0.6666666666666666,
              "#ed7953"
             ],
             [
              0.7777777777777778,
              "#fb9f3a"
             ],
             [
              0.8888888888888888,
              "#fdca26"
             ],
             [
              1,
              "#f0f921"
             ]
            ],
            "type": "heatmapgl"
           }
          ],
          "histogram": [
           {
            "marker": {
             "pattern": {
              "fillmode": "overlay",
              "size": 10,
              "solidity": 0.2
             }
            },
            "type": "histogram"
           }
          ],
          "histogram2d": [
           {
            "colorbar": {
             "outlinewidth": 0,
             "ticks": ""
            },
            "colorscale": [
             [
              0,
              "#0d0887"
             ],
             [
              0.1111111111111111,
              "#46039f"
             ],
             [
              0.2222222222222222,
              "#7201a8"
             ],
             [
              0.3333333333333333,
              "#9c179e"
             ],
             [
              0.4444444444444444,
              "#bd3786"
             ],
             [
              0.5555555555555556,
              "#d8576b"
             ],
             [
              0.6666666666666666,
              "#ed7953"
             ],
             [
              0.7777777777777778,
              "#fb9f3a"
             ],
             [
              0.8888888888888888,
              "#fdca26"
             ],
             [
              1,
              "#f0f921"
             ]
            ],
            "type": "histogram2d"
           }
          ],
          "histogram2dcontour": [
           {
            "colorbar": {
             "outlinewidth": 0,
             "ticks": ""
            },
            "colorscale": [
             [
              0,
              "#0d0887"
             ],
             [
              0.1111111111111111,
              "#46039f"
             ],
             [
              0.2222222222222222,
              "#7201a8"
             ],
             [
              0.3333333333333333,
              "#9c179e"
             ],
             [
              0.4444444444444444,
              "#bd3786"
             ],
             [
              0.5555555555555556,
              "#d8576b"
             ],
             [
              0.6666666666666666,
              "#ed7953"
             ],
             [
              0.7777777777777778,
              "#fb9f3a"
             ],
             [
              0.8888888888888888,
              "#fdca26"
             ],
             [
              1,
              "#f0f921"
             ]
            ],
            "type": "histogram2dcontour"
           }
          ],
          "mesh3d": [
           {
            "colorbar": {
             "outlinewidth": 0,
             "ticks": ""
            },
            "type": "mesh3d"
           }
          ],
          "parcoords": [
           {
            "line": {
             "colorbar": {
              "outlinewidth": 0,
              "ticks": ""
             }
            },
            "type": "parcoords"
           }
          ],
          "pie": [
           {
            "automargin": true,
            "type": "pie"
           }
          ],
          "scatter": [
           {
            "marker": {
             "line": {
              "color": "#283442"
             }
            },
            "type": "scatter"
           }
          ],
          "scatter3d": [
           {
            "line": {
             "colorbar": {
              "outlinewidth": 0,
              "ticks": ""
             }
            },
            "marker": {
             "colorbar": {
              "outlinewidth": 0,
              "ticks": ""
             }
            },
            "type": "scatter3d"
           }
          ],
          "scattercarpet": [
           {
            "marker": {
             "colorbar": {
              "outlinewidth": 0,
              "ticks": ""
             }
            },
            "type": "scattercarpet"
           }
          ],
          "scattergeo": [
           {
            "marker": {
             "colorbar": {
              "outlinewidth": 0,
              "ticks": ""
             }
            },
            "type": "scattergeo"
           }
          ],
          "scattergl": [
           {
            "marker": {
             "line": {
              "color": "#283442"
             }
            },
            "type": "scattergl"
           }
          ],
          "scattermapbox": [
           {
            "marker": {
             "colorbar": {
              "outlinewidth": 0,
              "ticks": ""
             }
            },
            "type": "scattermapbox"
           }
          ],
          "scatterpolar": [
           {
            "marker": {
             "colorbar": {
              "outlinewidth": 0,
              "ticks": ""
             }
            },
            "type": "scatterpolar"
           }
          ],
          "scatterpolargl": [
           {
            "marker": {
             "colorbar": {
              "outlinewidth": 0,
              "ticks": ""
             }
            },
            "type": "scatterpolargl"
           }
          ],
          "scatterternary": [
           {
            "marker": {
             "colorbar": {
              "outlinewidth": 0,
              "ticks": ""
             }
            },
            "type": "scatterternary"
           }
          ],
          "surface": [
           {
            "colorbar": {
             "outlinewidth": 0,
             "ticks": ""
            },
            "colorscale": [
             [
              0,
              "#0d0887"
             ],
             [
              0.1111111111111111,
              "#46039f"
             ],
             [
              0.2222222222222222,
              "#7201a8"
             ],
             [
              0.3333333333333333,
              "#9c179e"
             ],
             [
              0.4444444444444444,
              "#bd3786"
             ],
             [
              0.5555555555555556,
              "#d8576b"
             ],
             [
              0.6666666666666666,
              "#ed7953"
             ],
             [
              0.7777777777777778,
              "#fb9f3a"
             ],
             [
              0.8888888888888888,
              "#fdca26"
             ],
             [
              1,
              "#f0f921"
             ]
            ],
            "type": "surface"
           }
          ],
          "table": [
           {
            "cells": {
             "fill": {
              "color": "#506784"
             },
             "line": {
              "color": "rgb(17,17,17)"
             }
            },
            "header": {
             "fill": {
              "color": "#2a3f5f"
             },
             "line": {
              "color": "rgb(17,17,17)"
             }
            },
            "type": "table"
           }
          ]
         },
         "layout": {
          "annotationdefaults": {
           "arrowcolor": "#f2f5fa",
           "arrowhead": 0,
           "arrowwidth": 1
          },
          "autotypenumbers": "strict",
          "coloraxis": {
           "colorbar": {
            "outlinewidth": 0,
            "ticks": ""
           }
          },
          "colorscale": {
           "diverging": [
            [
             0,
             "#8e0152"
            ],
            [
             0.1,
             "#c51b7d"
            ],
            [
             0.2,
             "#de77ae"
            ],
            [
             0.3,
             "#f1b6da"
            ],
            [
             0.4,
             "#fde0ef"
            ],
            [
             0.5,
             "#f7f7f7"
            ],
            [
             0.6,
             "#e6f5d0"
            ],
            [
             0.7,
             "#b8e186"
            ],
            [
             0.8,
             "#7fbc41"
            ],
            [
             0.9,
             "#4d9221"
            ],
            [
             1,
             "#276419"
            ]
           ],
           "sequential": [
            [
             0,
             "#0d0887"
            ],
            [
             0.1111111111111111,
             "#46039f"
            ],
            [
             0.2222222222222222,
             "#7201a8"
            ],
            [
             0.3333333333333333,
             "#9c179e"
            ],
            [
             0.4444444444444444,
             "#bd3786"
            ],
            [
             0.5555555555555556,
             "#d8576b"
            ],
            [
             0.6666666666666666,
             "#ed7953"
            ],
            [
             0.7777777777777778,
             "#fb9f3a"
            ],
            [
             0.8888888888888888,
             "#fdca26"
            ],
            [
             1,
             "#f0f921"
            ]
           ],
           "sequentialminus": [
            [
             0,
             "#0d0887"
            ],
            [
             0.1111111111111111,
             "#46039f"
            ],
            [
             0.2222222222222222,
             "#7201a8"
            ],
            [
             0.3333333333333333,
             "#9c179e"
            ],
            [
             0.4444444444444444,
             "#bd3786"
            ],
            [
             0.5555555555555556,
             "#d8576b"
            ],
            [
             0.6666666666666666,
             "#ed7953"
            ],
            [
             0.7777777777777778,
             "#fb9f3a"
            ],
            [
             0.8888888888888888,
             "#fdca26"
            ],
            [
             1,
             "#f0f921"
            ]
           ]
          },
          "colorway": [
           "#636efa",
           "#EF553B",
           "#00cc96",
           "#ab63fa",
           "#FFA15A",
           "#19d3f3",
           "#FF6692",
           "#B6E880",
           "#FF97FF",
           "#FECB52"
          ],
          "font": {
           "color": "#f2f5fa"
          },
          "geo": {
           "bgcolor": "rgb(17,17,17)",
           "lakecolor": "rgb(17,17,17)",
           "landcolor": "rgb(17,17,17)",
           "showlakes": true,
           "showland": true,
           "subunitcolor": "#506784"
          },
          "hoverlabel": {
           "align": "left"
          },
          "hovermode": "closest",
          "mapbox": {
           "style": "dark"
          },
          "paper_bgcolor": "rgb(17,17,17)",
          "plot_bgcolor": "rgb(17,17,17)",
          "polar": {
           "angularaxis": {
            "gridcolor": "#506784",
            "linecolor": "#506784",
            "ticks": ""
           },
           "bgcolor": "rgb(17,17,17)",
           "radialaxis": {
            "gridcolor": "#506784",
            "linecolor": "#506784",
            "ticks": ""
           }
          },
          "scene": {
           "xaxis": {
            "backgroundcolor": "rgb(17,17,17)",
            "gridcolor": "#506784",
            "gridwidth": 2,
            "linecolor": "#506784",
            "showbackground": true,
            "ticks": "",
            "zerolinecolor": "#C8D4E3"
           },
           "yaxis": {
            "backgroundcolor": "rgb(17,17,17)",
            "gridcolor": "#506784",
            "gridwidth": 2,
            "linecolor": "#506784",
            "showbackground": true,
            "ticks": "",
            "zerolinecolor": "#C8D4E3"
           },
           "zaxis": {
            "backgroundcolor": "rgb(17,17,17)",
            "gridcolor": "#506784",
            "gridwidth": 2,
            "linecolor": "#506784",
            "showbackground": true,
            "ticks": "",
            "zerolinecolor": "#C8D4E3"
           }
          },
          "shapedefaults": {
           "line": {
            "color": "#f2f5fa"
           }
          },
          "sliderdefaults": {
           "bgcolor": "#C8D4E3",
           "bordercolor": "rgb(17,17,17)",
           "borderwidth": 1,
           "tickwidth": 0
          },
          "ternary": {
           "aaxis": {
            "gridcolor": "#506784",
            "linecolor": "#506784",
            "ticks": ""
           },
           "baxis": {
            "gridcolor": "#506784",
            "linecolor": "#506784",
            "ticks": ""
           },
           "bgcolor": "rgb(17,17,17)",
           "caxis": {
            "gridcolor": "#506784",
            "linecolor": "#506784",
            "ticks": ""
           }
          },
          "title": {
           "x": 0.05
          },
          "updatemenudefaults": {
           "bgcolor": "#506784",
           "borderwidth": 0
          },
          "xaxis": {
           "automargin": true,
           "gridcolor": "#283442",
           "linecolor": "#506784",
           "ticks": "",
           "title": {
            "standoff": 15
           },
           "zerolinecolor": "#283442",
           "zerolinewidth": 2
          },
          "yaxis": {
           "automargin": true,
           "gridcolor": "#283442",
           "linecolor": "#506784",
           "ticks": "",
           "title": {
            "standoff": 15
           },
           "zerolinecolor": "#283442",
           "zerolinewidth": 2
          }
         }
        },
        "title": {
         "text": "Top 20 show producing countries"
        },
        "treemapcolorway": [
         "rgb(255,0,0)",
         "rgb(255,111,0)",
         "rgb(255,234,0)",
         "rgb(151,255,0)",
         "rgb(44,255,150)",
         "rgb(0,152,255)",
         "rgb(0,25,255)",
         "rgb(0,0,200)",
         "rgb(150,0,90)"
        ]
       }
      }
     },
     "metadata": {},
     "output_type": "display_data"
    }
   ],
   "source": [
    "import plotly.express as px\n",
    "\n",
    "# only netflix data\n",
    "df = all_data[0]\n",
    "\n",
    "# Remove rows where 'country' is 'unknown'\n",
    "df = df[df[\"country\"] != \"UNKNOWN\"]\n",
    "# Split the 'country' column, stack, and count occurrences\n",
    "top_countries = (\n",
    "    df[\"country\"].str.split(\", \", expand=True).stack().value_counts().head(20).reset_index()\n",
    ")\n",
    "top_countries.columns = [\"country\", \"size\"]\n",
    "\n",
    "# Create a treemap using Plotly Express\n",
    "fig = px.treemap(\n",
    "    top_countries,\n",
    "    path=[\"country\"],\n",
    "    values=\"size\",\n",
    "    color_discrete_sequence=px.colors.sequential.Rainbow_r,\n",
    "    title=\"Top 20 show producing countries\",\n",
    "    labels={\"size\": \"Production Size\"},\n",
    "    template=\"plotly_dark\",\n",
    ")\n",
    "fig.show()"
   ]
  },
  {
   "cell_type": "markdown",
   "metadata": {},
   "source": [
    "We now save all the modified dataset into processed folder."
   ]
  },
  {
   "cell_type": "code",
   "execution_count": 9,
   "metadata": {},
   "outputs": [
    {
     "name": "stdout",
     "output_type": "stream",
     "text": [
      "Datasets saved into separate CSV files.\n"
     ]
    }
   ],
   "source": [
    "output_directory = os.path.join(PATH_RAW, \"processed\")\n",
    "os.makedirs(output_directory, exist_ok=True)\n",
    "\n",
    "for data in all_data:\n",
    "    channel_name = data[\"channel_streaming\"].iloc[0]\n",
    "\n",
    "    data = data.drop(columns=[\"channel_streaming\"])\n",
    "\n",
    "    output_file_path = os.path.join(output_directory, f\"{channel_name}.csv\")\n",
    "    data.to_csv(output_file_path, index=False)\n",
    "print(\"Datasets saved into separate CSV files.\")"
   ]
  },
  {
   "cell_type": "code",
   "execution_count": null,
   "metadata": {},
   "outputs": [],
   "source": [
    "# PATH_RAW = \"../Data/processed/\"\n",
    "# # Log all available datasets\n",
    "# print(\"All the available datasets: %s\", os.listdir(PATH_RAW))\n",
    "\n",
    "# datasets_names = [filename for filename in os.listdir(PATH_RAW) if filename.endswith(\".csv\")]\n",
    "# processed_data = []\n",
    "# for dir_ in datasets_names:\n",
    "#     read_pd = pd.read_csv(os.path.join(PATH_RAW, dir_))\n",
    "#     read_pd[\"channel_streaming\"] = dir_.split(\"_\")[0]\n",
    "#     processed_data.append(read_pd)\n",
    "# # Log all column names for each dataset\n",
    "# for data in processed_data:\n",
    "#     print(\"Columns in %s Data: \\n %s\", data[\"channel_streaming\"].iloc[0], data.columns)"
   ]
  },
  {
   "cell_type": "code",
   "execution_count": null,
   "metadata": {},
   "outputs": [],
   "source": [
    "# processed_data[0].head(5)"
   ]
  },
  {
   "cell_type": "code",
   "execution_count": null,
   "metadata": {},
   "outputs": [],
   "source": [
    "# for data in processed_data:\n",
    "#     nan_columns = data.columns[data.isnull().any()]\n",
    "#     nan_columns_with_percentage = {\n",
    "#         column: data[column].isnull().mean() * 100 for column in nan_columns\n",
    "#     }  # Dict comprehension\n",
    "\n",
    "#     print(\"NaN Columns and Percentages in %s Data:\", data[\"channel_streaming\"].iloc[0])\n",
    "#     for column, percentage in nan_columns_with_percentage.items():\n",
    "#         print(\"\\t %s: %.2f%%\", column, percentage)\n",
    "#     print(\"\\n\")"
   ]
  },
  {
   "cell_type": "markdown",
   "metadata": {},
   "source": [
    "### Now we fill our database with the prosessed data."
   ]
  },
  {
   "cell_type": "code",
   "execution_count": 2,
   "metadata": {},
   "outputs": [],
   "source": [
    "import os\n"
   ]
  },
  {
   "cell_type": "code",
   "execution_count": null,
   "metadata": {},
   "outputs": [],
   "source": []
  },
  {
   "cell_type": "code",
   "execution_count": 7,
   "metadata": {},
   "outputs": [],
   "source": [
    "\n",
    "from dotenv import load_dotenv\n",
    "from sqlalchemy import create_engine\n",
    "# Get the current working directory\n",
    "current_directory = os.getcwd()\n",
    "# Get the parent directory\n",
    "parent_directory = os.path.dirname(current_directory)\n",
    "#  Load environment variables from the .env file in the parent directory\n",
    "dotenv_path = os.path.join(parent_directory, \".env\")\n",
    "load_dotenv(dotenv_path)\n",
    "\n",
    "DATABASE_URL = os.getenv(\"DATABASE_URL\")\n",
    "engine = create_engine(DATABASE_URL)\n",
    "file_directory = os.path.join(PATH_RAW, \"processed\")\n",
    "datasets_names = [filename for filename in os.listdir(file_directory) if filename.endswith(\".csv\")]\n",
    "for dir_ in datasets_names:\n",
    "    service_data = pd.read_csv(os.path.join(file_directory, dir_))\n",
    "    table_name = dir_.split(\".\")[0]\n",
    "    service_data.to_sql(table_name, con=engine, if_exists=\"replace\", index=False)"
   ]
  },
  {
   "cell_type": "markdown",
   "metadata": {},
   "source": [
    "### Now we have all the tables uploaded on our database and ready to be used.\n",
    "Please check your database and see all the tables are uploaded."
   ]
  }
 ],
 "metadata": {
  "kernelspec": {
   "display_name": "se_venv",
   "language": "python",
   "name": "python3"
  },
  "language_info": {
   "codemirror_mode": {
    "name": "ipython",
    "version": 3
   },
   "file_extension": ".py",
   "mimetype": "text/x-python",
   "name": "python",
   "nbconvert_exporter": "python",
   "pygments_lexer": "ipython3",
   "version": "3.12.3"
  }
 },
 "nbformat": 4,
 "nbformat_minor": 2
}
